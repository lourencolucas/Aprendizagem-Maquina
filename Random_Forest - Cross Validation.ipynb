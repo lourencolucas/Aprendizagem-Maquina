{
  "nbformat": 4,
  "nbformat_minor": 0,
  "metadata": {
    "colab": {
      "name": "Random-Forest-bal.ipynb",
      "provenance": []
    },
    "kernelspec": {
      "name": "python3",
      "display_name": "Python 3"
    }
  },
  "cells": [
    {
      "cell_type": "markdown",
      "metadata": {
        "id": "rouKeGMrHOKT"
      },
      "source": [
        "## Importando base"
      ]
    },
    {
      "cell_type": "code",
      "metadata": {
        "id": "coYiD45z9gF0"
      },
      "source": [
        "import pandas as pd\r\n",
        "from sklearn.ensemble import RandomForestClassifier\r\n",
        "from sklearn.metrics import classification_report,confusion_matrix\r\n",
        "from sklearn.model_selection import cross_val_predict\r\n",
        "from sklearn.model_selection import cross_val_score\r\n",
        "from sklearn.model_selection import train_test_split\r\n",
        "import matplotlib\r\n",
        "import matplotlib.pyplot as plt\r\n",
        "from sklearn.metrics import confusion_matrix\r\n",
        "import seaborn as sns\r\n",
        "from imblearn.under_sampling import NearMiss"
      ],
      "execution_count": 4,
      "outputs": []
    },
    {
      "cell_type": "code",
      "metadata": {
        "id": "vDMwqcGm9M7p"
      },
      "source": [
        "file_path = \"/content/drive/MyDrive/Colab Notebooks/base.pronta.csv\""
      ],
      "execution_count": 5,
      "outputs": []
    },
    {
      "cell_type": "code",
      "metadata": {
        "id": "d3kgnf0p9Uwi"
      },
      "source": [
        "df = pd.read_csv(file_path)"
      ],
      "execution_count": 6,
      "outputs": []
    },
    {
      "cell_type": "markdown",
      "metadata": {
        "id": "c3sJIYxTHKwL"
      },
      "source": [
        "### Testando Base"
      ]
    },
    {
      "cell_type": "code",
      "metadata": {
        "colab": {
          "base_uri": "https://localhost:8080/",
          "height": 111
        },
        "id": "jkLeRsF09bcC",
        "outputId": "e30dbe5b-6d13-463a-a8f6-fb892427204f"
      },
      "source": [
        "df.head(2)"
      ],
      "execution_count": 7,
      "outputs": [
        {
          "output_type": "execute_result",
          "data": {
            "text/html": [
              "<div>\n",
              "<style scoped>\n",
              "    .dataframe tbody tr th:only-of-type {\n",
              "        vertical-align: middle;\n",
              "    }\n",
              "\n",
              "    .dataframe tbody tr th {\n",
              "        vertical-align: top;\n",
              "    }\n",
              "\n",
              "    .dataframe thead th {\n",
              "        text-align: right;\n",
              "    }\n",
              "</style>\n",
              "<table border=\"1\" class=\"dataframe\">\n",
              "  <thead>\n",
              "    <tr style=\"text-align: right;\">\n",
              "      <th></th>\n",
              "      <th>Unnamed: 0</th>\n",
              "      <th>age</th>\n",
              "      <th>workclass</th>\n",
              "      <th>fnlwgt</th>\n",
              "      <th>educationnum</th>\n",
              "      <th>maritalstatus</th>\n",
              "      <th>occupation</th>\n",
              "      <th>relationship</th>\n",
              "      <th>race</th>\n",
              "      <th>sex</th>\n",
              "      <th>capitalgain</th>\n",
              "      <th>capitalloss</th>\n",
              "      <th>hoursperweek</th>\n",
              "      <th>nativecountry</th>\n",
              "      <th>result</th>\n",
              "    </tr>\n",
              "  </thead>\n",
              "  <tbody>\n",
              "    <tr>\n",
              "      <th>0</th>\n",
              "      <td>0</td>\n",
              "      <td>39</td>\n",
              "      <td>6</td>\n",
              "      <td>77516</td>\n",
              "      <td>13</td>\n",
              "      <td>5</td>\n",
              "      <td>1</td>\n",
              "      <td>2</td>\n",
              "      <td>5</td>\n",
              "      <td>1</td>\n",
              "      <td>2174</td>\n",
              "      <td>0</td>\n",
              "      <td>40</td>\n",
              "      <td>39</td>\n",
              "      <td>1</td>\n",
              "    </tr>\n",
              "    <tr>\n",
              "      <th>1</th>\n",
              "      <td>1</td>\n",
              "      <td>50</td>\n",
              "      <td>5</td>\n",
              "      <td>83311</td>\n",
              "      <td>13</td>\n",
              "      <td>3</td>\n",
              "      <td>4</td>\n",
              "      <td>1</td>\n",
              "      <td>5</td>\n",
              "      <td>1</td>\n",
              "      <td>0</td>\n",
              "      <td>0</td>\n",
              "      <td>13</td>\n",
              "      <td>39</td>\n",
              "      <td>1</td>\n",
              "    </tr>\n",
              "  </tbody>\n",
              "</table>\n",
              "</div>"
            ],
            "text/plain": [
              "   Unnamed: 0  age  workclass  ...  hoursperweek  nativecountry  result\n",
              "0           0   39          6  ...            40             39       1\n",
              "1           1   50          5  ...            13             39       1\n",
              "\n",
              "[2 rows x 15 columns]"
            ]
          },
          "metadata": {
            "tags": []
          },
          "execution_count": 7
        }
      ]
    },
    {
      "cell_type": "markdown",
      "metadata": {
        "id": "KT7Gf9EIH9cI"
      },
      "source": [
        "## Random Forest\r\n"
      ]
    },
    {
      "cell_type": "markdown",
      "metadata": {
        "id": "LKgUaA2RJjgg"
      },
      "source": [
        "Atributos e rótulos"
      ]
    },
    {
      "cell_type": "code",
      "metadata": {
        "id": "TFA7HMZQIB0q"
      },
      "source": [
        "X = df[['age', 'workclass', 'educationnum', 'maritalstatus', 'occupation', 'relationship', 'race', 'sex', 'capitalgain', 'capitalloss', 'hoursperweek', 'nativecountry']]\r\n",
        "y = df['result']"
      ],
      "execution_count": 8,
      "outputs": []
    },
    {
      "cell_type": "markdown",
      "metadata": {
        "id": "SPdalp2-HNPC"
      },
      "source": [
        "Balancear base"
      ]
    },
    {
      "cell_type": "code",
      "metadata": {
        "colab": {
          "base_uri": "https://localhost:8080/"
        },
        "id": "ivQuZWjfJLZZ",
        "outputId": "b410e658-5034-4aac-bcfb-744a1590cae4"
      },
      "source": [
        "df.result.value_counts()"
      ],
      "execution_count": 9,
      "outputs": [
        {
          "output_type": "execute_result",
          "data": {
            "text/plain": [
              "1    22654\n",
              "2     7508\n",
              "Name: result, dtype: int64"
            ]
          },
          "metadata": {
            "tags": []
          },
          "execution_count": 9
        }
      ]
    },
    {
      "cell_type": "code",
      "metadata": {
        "colab": {
          "base_uri": "https://localhost:8080/",
          "height": 279
        },
        "id": "qarJ9NjJJ05R",
        "outputId": "18255c5d-5110-4b3f-a7df-d66893a357c0"
      },
      "source": [
        "ax = sns.countplot(x=\"result\", data=df)"
      ],
      "execution_count": 10,
      "outputs": [
        {
          "output_type": "display_data",
          "data": {
            "image/png": "[encoded data removed]",
            "text/plain": [
              "<Figure size 432x288 with 1 Axes>"
            ]
          },
          "metadata": {
            "tags": [],
            "needs_background": "light"
          }
        }
      ]
    },
    {
      "cell_type": "code",
      "metadata": {
        "id": "1HE4WfadKMZh"
      },
      "source": [
        "nr = NearMiss()"
      ],
      "execution_count": 11,
      "outputs": []
    },
    {
      "cell_type": "code",
      "metadata": {
        "id": "8k10ISNSKiid",
        "colab": {
          "base_uri": "https://localhost:8080/"
        },
        "outputId": "7f187621-7f7e-458c-ff54-78db83b0f4cb"
      },
      "source": [
        "X, y = nr.fit_sample(X, y)"
      ],
      "execution_count": 12,
      "outputs": [
        {
          "output_type": "stream",
          "text": [
            "/usr/local/lib/python3.6/dist-packages/sklearn/utils/deprecation.py:87: FutureWarning: Function safe_indexing is deprecated; safe_indexing is deprecated in version 0.22 and will be removed in version 0.24.\n",
            "  warnings.warn(msg, category=FutureWarning)\n",
            "/usr/local/lib/python3.6/dist-packages/sklearn/utils/deprecation.py:87: FutureWarning: Function safe_indexing is deprecated; safe_indexing is deprecated in version 0.22 and will be removed in version 0.24.\n",
            "  warnings.warn(msg, category=FutureWarning)\n",
            "/usr/local/lib/python3.6/dist-packages/sklearn/utils/deprecation.py:87: FutureWarning: Function safe_indexing is deprecated; safe_indexing is deprecated in version 0.22 and will be removed in version 0.24.\n",
            "  warnings.warn(msg, category=FutureWarning)\n"
          ],
          "name": "stderr"
        }
      ]
    },
    {
      "cell_type": "code",
      "metadata": {
        "colab": {
          "base_uri": "https://localhost:8080/",
          "height": 265
        },
        "id": "vs_qaLhRKkpj",
        "outputId": "eef2833d-649d-47ad-ef16-36009134edc0"
      },
      "source": [
        "ax = sns.countplot(x=y)"
      ],
      "execution_count": 13,
      "outputs": [
        {
          "output_type": "display_data",
          "data": {
            "image/png": "[encoded data removed]",
            "text/plain": [
              "<Figure size 432x288 with 1 Axes>"
            ]
          },
          "metadata": {
            "tags": [],
            "needs_background": "light"
          }
        }
      ]
    },
    {
      "cell_type": "markdown",
      "metadata": {
        "id": "uqOAx6J9OPrY"
      },
      "source": [
        "Treino e Teste"
      ]
    },
    {
      "cell_type": "code",
      "metadata": {
        "id": "WnzRQ_peORtl"
      },
      "source": [
        "X_train, X_test, y_train, y_test = train_test_split(X, y, random_state = 1, stratify=y)"
      ],
      "execution_count": 16,
      "outputs": []
    },
    {
      "cell_type": "code",
      "metadata": {
        "colab": {
          "base_uri": "https://localhost:8080/"
        },
        "id": "r5FY7clCOVOA",
        "outputId": "c860467f-a75b-4103-ed37-75330c49efb8"
      },
      "source": [
        "X_train.shape, X_test.shape, y_train.shape, y_test.shape"
      ],
      "execution_count": 17,
      "outputs": [
        {
          "output_type": "execute_result",
          "data": {
            "text/plain": [
              "((11262, 12), (3754, 12), (11262,), (3754,))"
            ]
          },
          "metadata": {
            "tags": []
          },
          "execution_count": 17
        }
      ]
    },
    {
      "cell_type": "markdown",
      "metadata": {
        "id": "MxCt0P3iqRTB"
      },
      "source": [
        "Validações"
      ]
    },
    {
      "cell_type": "code",
      "metadata": {
        "id": "9-jOpfbLqNz1"
      },
      "source": [
        "rdf = RandomForestClassifier(n_estimators=500)"
      ],
      "execution_count": 19,
      "outputs": []
    },
    {
      "cell_type": "code",
      "metadata": {
        "id": "13ykW60Yq9so"
      },
      "source": [
        "y_pred = cross_val_predict(rdf, X, y, cv=10)\r\n",
        "score = cross_val_score(rdf, X, y, cv=10)"
      ],
      "execution_count": 20,
      "outputs": []
    },
    {
      "cell_type": "code",
      "metadata": {
        "colab": {
          "base_uri": "https://localhost:8080/"
        },
        "id": "lgkIs6tYrtEq",
        "outputId": "829714da-2671-4a78-8bca-c5ebe571aa8d"
      },
      "source": [
        "y_pred"
      ],
      "execution_count": 21,
      "outputs": [
        {
          "output_type": "execute_result",
          "data": {
            "text/plain": [
              "array([2, 2, 2, ..., 2, 1, 2])"
            ]
          },
          "metadata": {
            "tags": []
          },
          "execution_count": 21
        }
      ]
    },
    {
      "cell_type": "code",
      "metadata": {
        "colab": {
          "base_uri": "https://localhost:8080/"
        },
        "id": "BtXXe_jPtHIn",
        "outputId": "3048cb81-4499-442a-e49d-e21fa6956f4e"
      },
      "source": [
        "score"
      ],
      "execution_count": 22,
      "outputs": [
        {
          "output_type": "execute_result",
          "data": {
            "text/plain": [
              "array([0.4494008 , 0.57123835, 0.66378162, 0.69573901, 0.76564581,\n",
              "       0.77696405, 0.81612258, 0.81812125, 0.82611592, 0.81279147])"
            ]
          },
          "metadata": {
            "tags": []
          },
          "execution_count": 22
        }
      ]
    },
    {
      "cell_type": "markdown",
      "metadata": {
        "id": "gFKKRTnqtiko"
      },
      "source": [
        "Matriz de confusão"
      ]
    },
    {
      "cell_type": "code",
      "metadata": {
        "id": "LgG4V9qztiQm"
      },
      "source": [
        "matconf = confusion_matrix(y, y_pred)"
      ],
      "execution_count": 23,
      "outputs": []
    },
    {
      "cell_type": "code",
      "metadata": {
        "colab": {
          "base_uri": "https://localhost:8080/"
        },
        "id": "EcQvd2Tntz4O",
        "outputId": "6ddddf7e-552a-4929-efe7-991a84299d46"
      },
      "source": [
        "print(matconf)"
      ],
      "execution_count": 24,
      "outputs": [
        {
          "output_type": "stream",
          "text": [
            "[[5182 2326]\n",
            " [1898 5610]]\n"
          ],
          "name": "stdout"
        }
      ]
    },
    {
      "cell_type": "markdown",
      "metadata": {
        "id": "cbSadknQuxxw"
      },
      "source": [
        "Construção dos valores"
      ]
    },
    {
      "cell_type": "code",
      "metadata": {
        "id": "QGW65EX9uab7"
      },
      "source": [
        "vn = matconf[0,0]\r\n",
        "fn = matconf[1,0]\r\n",
        "fp = matconf[0,1]\r\n",
        "vp = matconf[1,1]"
      ],
      "execution_count": 25,
      "outputs": []
    },
    {
      "cell_type": "code",
      "metadata": {
        "id": "wQdPAV4ru8G1"
      },
      "source": [
        "acuracia = (vp + vn) / (vp + vn + fp + fn)*100\r\n",
        "sensibilidade = vp / (vn + fn) * 100\r\n",
        "especificidade = vn / (vn + fp) * 100\r\n",
        "t_erro = fp / (vn + fp) * 100"
      ],
      "execution_count": 26,
      "outputs": []
    },
    {
      "cell_type": "code",
      "metadata": {
        "colab": {
          "base_uri": "https://localhost:8080/"
        },
        "id": "1xihAXTUwJzt",
        "outputId": "5724ca31-7bcf-42bc-feaf-e354b61d3f22"
      },
      "source": [
        "print(\"Acuracia\", int(acuracia), \"%\")\r\n",
        "print(\"Sensibilidade\", int(sensibilidade), \"%\")\r\n",
        "print(\"Especificidade\", int(especificidade), \"%\")\r\n",
        "print(\"Taxa de Erro\", int(t_erro), \"%\")"
      ],
      "execution_count": 27,
      "outputs": [
        {
          "output_type": "stream",
          "text": [
            "Acuracia 71 %\n",
            "Sensibilidade 79 %\n",
            "Especificidade 69 %\n",
            "Taxa de Erro 30 %\n"
          ],
          "name": "stdout"
        }
      ]
    }
  ]
}