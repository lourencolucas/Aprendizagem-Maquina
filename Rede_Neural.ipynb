{
  "nbformat": 4,
  "nbformat_minor": 0,
  "metadata": {
    "colab": {
      "name": "Rede-Neural.ipynb",
      "provenance": []
    },
    "kernelspec": {
      "name": "python3",
      "display_name": "Python 3"
    }
  },
  "cells": [
    {
      "cell_type": "markdown",
      "metadata": {
        "id": "rouKeGMrHOKT"
      },
      "source": [
        "## Importações da base"
      ]
    },
    {
      "cell_type": "code",
      "metadata": {
        "id": "coYiD45z9gF0"
      },
      "source": [
        "import pandas as pd\r\n",
        "from sklearn.ensemble import RandomForestClassifier\r\n",
        "from sklearn.tree import DecisionTreeClassifier\r\n",
        "from sklearn.metrics import classification_report,confusion_matrix, accuracy_score\r\n",
        "from sklearn.model_selection import cross_val_predict\r\n",
        "from sklearn.model_selection import cross_val_score\r\n",
        "from sklearn.model_selection import train_test_split\r\n",
        "import matplotlib\r\n",
        "import matplotlib.pyplot as plt\r\n",
        "from sklearn.metrics import confusion_matrix\r\n",
        "import seaborn as sns\r\n",
        "from imblearn.under_sampling import NearMiss\r\n",
        "from sklearn import metrics"
      ],
      "execution_count": 206,
      "outputs": []
    },
    {
      "cell_type": "code",
      "metadata": {
        "id": "vDMwqcGm9M7p"
      },
      "source": [
        "file_path = \"/content/drive/MyDrive/Colab Notebooks/base.pronta.csv\""
      ],
      "execution_count": 207,
      "outputs": []
    },
    {
      "cell_type": "code",
      "metadata": {
        "id": "d3kgnf0p9Uwi"
      },
      "source": [
        "df = pd.read_csv(file_path)"
      ],
      "execution_count": 208,
      "outputs": []
    },
    {
      "cell_type": "markdown",
      "metadata": {
        "id": "c3sJIYxTHKwL"
      },
      "source": [
        "### Testando Base"
      ]
    },
    {
      "cell_type": "code",
      "metadata": {
        "colab": {
          "base_uri": "https://localhost:8080/",
          "height": 0
        },
        "id": "jkLeRsF09bcC",
        "outputId": "d8181abd-3f77-44af-e0a2-ae52685552fe"
      },
      "source": [
        "df.head(2)"
      ],
      "execution_count": 209,
      "outputs": [
        {
          "output_type": "execute_result",
          "data": {
            "text/html": [
              "<div>\n",
              "<style scoped>\n",
              "    .dataframe tbody tr th:only-of-type {\n",
              "        vertical-align: middle;\n",
              "    }\n",
              "\n",
              "    .dataframe tbody tr th {\n",
              "        vertical-align: top;\n",
              "    }\n",
              "\n",
              "    .dataframe thead th {\n",
              "        text-align: right;\n",
              "    }\n",
              "</style>\n",
              "<table border=\"1\" class=\"dataframe\">\n",
              "  <thead>\n",
              "    <tr style=\"text-align: right;\">\n",
              "      <th></th>\n",
              "      <th>Unnamed: 0</th>\n",
              "      <th>age</th>\n",
              "      <th>workclass</th>\n",
              "      <th>fnlwgt</th>\n",
              "      <th>educationnum</th>\n",
              "      <th>maritalstatus</th>\n",
              "      <th>occupation</th>\n",
              "      <th>relationship</th>\n",
              "      <th>race</th>\n",
              "      <th>sex</th>\n",
              "      <th>capitalgain</th>\n",
              "      <th>capitalloss</th>\n",
              "      <th>hoursperweek</th>\n",
              "      <th>nativecountry</th>\n",
              "      <th>result</th>\n",
              "    </tr>\n",
              "  </thead>\n",
              "  <tbody>\n",
              "    <tr>\n",
              "      <th>0</th>\n",
              "      <td>0</td>\n",
              "      <td>39</td>\n",
              "      <td>6</td>\n",
              "      <td>77516</td>\n",
              "      <td>13</td>\n",
              "      <td>5</td>\n",
              "      <td>1</td>\n",
              "      <td>2</td>\n",
              "      <td>5</td>\n",
              "      <td>1</td>\n",
              "      <td>2174</td>\n",
              "      <td>0</td>\n",
              "      <td>40</td>\n",
              "      <td>39</td>\n",
              "      <td>1</td>\n",
              "    </tr>\n",
              "    <tr>\n",
              "      <th>1</th>\n",
              "      <td>1</td>\n",
              "      <td>50</td>\n",
              "      <td>5</td>\n",
              "      <td>83311</td>\n",
              "      <td>13</td>\n",
              "      <td>3</td>\n",
              "      <td>4</td>\n",
              "      <td>1</td>\n",
              "      <td>5</td>\n",
              "      <td>1</td>\n",
              "      <td>0</td>\n",
              "      <td>0</td>\n",
              "      <td>13</td>\n",
              "      <td>39</td>\n",
              "      <td>1</td>\n",
              "    </tr>\n",
              "  </tbody>\n",
              "</table>\n",
              "</div>"
            ],
            "text/plain": [
              "   Unnamed: 0  age  workclass  ...  hoursperweek  nativecountry  result\n",
              "0           0   39          6  ...            40             39       1\n",
              "1           1   50          5  ...            13             39       1\n",
              "\n",
              "[2 rows x 15 columns]"
            ]
          },
          "metadata": {
            "tags": []
          },
          "execution_count": 209
        }
      ]
    },
    {
      "cell_type": "markdown",
      "metadata": {
        "id": "KT7Gf9EIH9cI"
      },
      "source": [
        "## Atributos e rótulos\r\n"
      ]
    },
    {
      "cell_type": "code",
      "metadata": {
        "id": "TFA7HMZQIB0q"
      },
      "source": [
        "X = df[['age', 'workclass', 'educationnum', 'maritalstatus', 'occupation', 'relationship', 'race', 'sex', 'capitalgain', 'capitalloss', 'hoursperweek', 'nativecountry']]\r\n",
        "y = df['result']"
      ],
      "execution_count": 210,
      "outputs": []
    },
    {
      "cell_type": "markdown",
      "metadata": {
        "id": "SPdalp2-HNPC"
      },
      "source": [
        "## Balancear base"
      ]
    },
    {
      "cell_type": "code",
      "metadata": {
        "colab": {
          "base_uri": "https://localhost:8080/"
        },
        "id": "ivQuZWjfJLZZ",
        "outputId": "1a53094c-146f-4fd6-cf5d-2c57c0f0f807"
      },
      "source": [
        "df.result.value_counts()"
      ],
      "execution_count": 211,
      "outputs": [
        {
          "output_type": "execute_result",
          "data": {
            "text/plain": [
              "1    22654\n",
              "2     7508\n",
              "Name: result, dtype: int64"
            ]
          },
          "metadata": {
            "tags": []
          },
          "execution_count": 211
        }
      ]
    },
    {
      "cell_type": "code",
      "metadata": {
        "colab": {
          "base_uri": "https://localhost:8080/",
          "height": 0
        },
        "id": "qarJ9NjJJ05R",
        "outputId": "93c18715-2c68-4f22-e5a1-8bd24261db5d"
      },
      "source": [
        "ax = sns.countplot(x=\"result\", data=df)"
      ],
      "execution_count": 212,
      "outputs": [
        {
          "output_type": "display_data",
          "data": {
            "image/png": "[encoded data removed]",
            "text/plain": [
              "<Figure size 432x288 with 1 Axes>"
            ]
          },
          "metadata": {
            "tags": [],
            "needs_background": "light"
          }
        }
      ]
    },
    {
      "cell_type": "code",
      "metadata": {
        "id": "1HE4WfadKMZh"
      },
      "source": [
        "nr = NearMiss()"
      ],
      "execution_count": 213,
      "outputs": []
    },
    {
      "cell_type": "code",
      "metadata": {
        "id": "8k10ISNSKiid",
        "colab": {
          "base_uri": "https://localhost:8080/"
        },
        "outputId": "d4af9669-c47e-4709-8160-19adea7bbb60"
      },
      "source": [
        "X, y = nr.fit_sample(X, y)"
      ],
      "execution_count": 214,
      "outputs": [
        {
          "output_type": "stream",
          "text": [
            "/usr/local/lib/python3.6/dist-packages/sklearn/utils/deprecation.py:87: FutureWarning: Function safe_indexing is deprecated; safe_indexing is deprecated in version 0.22 and will be removed in version 0.24.\n",
            "  warnings.warn(msg, category=FutureWarning)\n",
            "/usr/local/lib/python3.6/dist-packages/sklearn/utils/deprecation.py:87: FutureWarning: Function safe_indexing is deprecated; safe_indexing is deprecated in version 0.22 and will be removed in version 0.24.\n",
            "  warnings.warn(msg, category=FutureWarning)\n",
            "/usr/local/lib/python3.6/dist-packages/sklearn/utils/deprecation.py:87: FutureWarning: Function safe_indexing is deprecated; safe_indexing is deprecated in version 0.22 and will be removed in version 0.24.\n",
            "  warnings.warn(msg, category=FutureWarning)\n"
          ],
          "name": "stderr"
        }
      ]
    },
    {
      "cell_type": "code",
      "metadata": {
        "colab": {
          "base_uri": "https://localhost:8080/",
          "height": 0
        },
        "id": "vs_qaLhRKkpj",
        "outputId": "4f002985-da41-40ce-a588-8a5cc4fe2068"
      },
      "source": [
        "ax = sns.countplot(x=y)"
      ],
      "execution_count": 215,
      "outputs": [
        {
          "output_type": "display_data",
          "data": {
            "image/png": "[encoded data removed]",
            "text/plain": [
              "<Figure size 432x288 with 1 Axes>"
            ]
          },
          "metadata": {
            "tags": [],
            "needs_background": "light"
          }
        }
      ]
    },
    {
      "cell_type": "markdown",
      "metadata": {
        "id": "uqOAx6J9OPrY"
      },
      "source": [
        "## Treino e Teste"
      ]
    },
    {
      "cell_type": "code",
      "metadata": {
        "id": "WnzRQ_peORtl"
      },
      "source": [
        "X_train, X_test, y_train, y_test = train_test_split(X, y, random_state = 1, stratify=y)"
      ],
      "execution_count": 216,
      "outputs": []
    },
    {
      "cell_type": "code",
      "metadata": {
        "colab": {
          "base_uri": "https://localhost:8080/"
        },
        "id": "r5FY7clCOVOA",
        "outputId": "dd049ac8-f66a-414a-d4d8-9724e2d990a1"
      },
      "source": [
        "X_train.shape, X_test.shape, y_train.shape, y_test.shape"
      ],
      "execution_count": 217,
      "outputs": [
        {
          "output_type": "execute_result",
          "data": {
            "text/plain": [
              "((11262, 12), (3754, 12), (11262,), (3754,))"
            ]
          },
          "metadata": {
            "tags": []
          },
          "execution_count": 217
        }
      ]
    },
    {
      "cell_type": "markdown",
      "metadata": {
        "id": "MxCt0P3iqRTB"
      },
      "source": [
        "## RandomForest Com validação"
      ]
    },
    {
      "cell_type": "code",
      "metadata": {
        "id": "9-jOpfbLqNz1"
      },
      "source": [
        "rdf = RandomForestClassifier(n_estimators=50)"
      ],
      "execution_count": 218,
      "outputs": []
    },
    {
      "cell_type": "markdown",
      "metadata": {
        "id": "jsN3O44qzlLc"
      },
      "source": [
        "### Validações"
      ]
    },
    {
      "cell_type": "code",
      "metadata": {
        "id": "13ykW60Yq9so"
      },
      "source": [
        "y_pred = cross_val_predict(rdf, X, y, cv=10)\r\n",
        "score = cross_val_score(rdf, X, y, cv=10)"
      ],
      "execution_count": 219,
      "outputs": []
    },
    {
      "cell_type": "code",
      "metadata": {
        "colab": {
          "base_uri": "https://localhost:8080/"
        },
        "id": "lgkIs6tYrtEq",
        "outputId": "6052d752-369e-4fe9-a652-34c2551ed657"
      },
      "source": [
        "y_pred"
      ],
      "execution_count": 220,
      "outputs": [
        {
          "output_type": "execute_result",
          "data": {
            "text/plain": [
              "array([2, 2, 2, ..., 2, 1, 2])"
            ]
          },
          "metadata": {
            "tags": []
          },
          "execution_count": 220
        }
      ]
    },
    {
      "cell_type": "code",
      "metadata": {
        "colab": {
          "base_uri": "https://localhost:8080/"
        },
        "id": "BtXXe_jPtHIn",
        "outputId": "1d0870f8-630e-47e9-b9cd-7393c039edcb"
      },
      "source": [
        "score"
      ],
      "execution_count": 221,
      "outputs": [
        {
          "output_type": "execute_result",
          "data": {
            "text/plain": [
              "array([0.44407457, 0.57057257, 0.67243675, 0.68641811, 0.76031957,\n",
              "       0.77496671, 0.8194537 , 0.81878748, 0.82811459, 0.80546302])"
            ]
          },
          "metadata": {
            "tags": []
          },
          "execution_count": 221
        }
      ]
    },
    {
      "cell_type": "markdown",
      "metadata": {
        "id": "gFKKRTnqtiko"
      },
      "source": [
        "### Matriz de confusão y e y_pred"
      ]
    },
    {
      "cell_type": "code",
      "metadata": {
        "id": "LgG4V9qztiQm"
      },
      "source": [
        "matconf = confusion_matrix(y, y_pred)"
      ],
      "execution_count": 222,
      "outputs": []
    },
    {
      "cell_type": "code",
      "metadata": {
        "colab": {
          "base_uri": "https://localhost:8080/"
        },
        "id": "EcQvd2Tntz4O",
        "outputId": "0d4270ad-9c22-4412-93e5-b6c3a809cd43"
      },
      "source": [
        "print(matconf)"
      ],
      "execution_count": 223,
      "outputs": [
        {
          "output_type": "stream",
          "text": [
            "[[5170 2338]\n",
            " [1937 5571]]\n"
          ],
          "name": "stdout"
        }
      ]
    },
    {
      "cell_type": "markdown",
      "metadata": {
        "id": "cbSadknQuxxw"
      },
      "source": [
        "### Construção dos valores y e y_pred"
      ]
    },
    {
      "cell_type": "code",
      "metadata": {
        "id": "QGW65EX9uab7"
      },
      "source": [
        "vn = matconf[0,0]\r\n",
        "fn = matconf[1,0]\r\n",
        "fp = matconf[0,1]\r\n",
        "vp = matconf[1,1]"
      ],
      "execution_count": 224,
      "outputs": []
    },
    {
      "cell_type": "code",
      "metadata": {
        "id": "wQdPAV4ru8G1"
      },
      "source": [
        "acuracia = (vp + vn) / (vp + vn + fp + fn)*100\r\n",
        "sensibilidade = vp / (vn + fn) * 100\r\n",
        "especificidade = vn / (vn + fp) * 100\r\n",
        "t_erro = fp / (vn + fp) * 100"
      ],
      "execution_count": 225,
      "outputs": []
    },
    {
      "cell_type": "code",
      "metadata": {
        "colab": {
          "base_uri": "https://localhost:8080/"
        },
        "id": "1xihAXTUwJzt",
        "outputId": "78a0054e-38b6-49f1-c58d-e09078135ba7"
      },
      "source": [
        "print(\"Acuracia\", int(acuracia), \"%\")\r\n",
        "print(\"Sensibilidade\", int(sensibilidade), \"%\")\r\n",
        "print(\"Especificidade\", int(especificidade), \"%\")\r\n",
        "print(\"Taxa de Erro\", int(t_erro), \"%\")"
      ],
      "execution_count": 226,
      "outputs": [
        {
          "output_type": "stream",
          "text": [
            "Acuracia 71 %\n",
            "Sensibilidade 78 %\n",
            "Especificidade 68 %\n",
            "Taxa de Erro 31 %\n"
          ],
          "name": "stdout"
        }
      ]
    },
    {
      "cell_type": "markdown",
      "metadata": {
        "id": "_OtvxCO5TbHA"
      },
      "source": [
        "## RandomForest - Sem validação"
      ]
    },
    {
      "cell_type": "code",
      "metadata": {
        "colab": {
          "base_uri": "https://localhost:8080/"
        },
        "id": "PZbPUuYoR-HK",
        "outputId": "14e0f957-957d-4575-dd48-28153eaee30b"
      },
      "source": [
        "rdf.fit(X_train, y_train)"
      ],
      "execution_count": 227,
      "outputs": [
        {
          "output_type": "execute_result",
          "data": {
            "text/plain": [
              "RandomForestClassifier(bootstrap=True, ccp_alpha=0.0, class_weight=None,\n",
              "                       criterion='gini', max_depth=None, max_features='auto',\n",
              "                       max_leaf_nodes=None, max_samples=None,\n",
              "                       min_impurity_decrease=0.0, min_impurity_split=None,\n",
              "                       min_samples_leaf=1, min_samples_split=2,\n",
              "                       min_weight_fraction_leaf=0.0, n_estimators=50,\n",
              "                       n_jobs=None, oob_score=False, random_state=None,\n",
              "                       verbose=0, warm_start=False)"
            ]
          },
          "metadata": {
            "tags": []
          },
          "execution_count": 227
        }
      ]
    },
    {
      "cell_type": "code",
      "metadata": {
        "id": "cPYMKkEbToT4"
      },
      "source": [
        "rdf_s = rdf.predict(X_test)"
      ],
      "execution_count": 228,
      "outputs": []
    },
    {
      "cell_type": "code",
      "metadata": {
        "id": "NAokfImmTuax"
      },
      "source": [
        "matconf_rdf_s = confusion_matrix(y_test, rdf_s)"
      ],
      "execution_count": 229,
      "outputs": []
    },
    {
      "cell_type": "code",
      "metadata": {
        "id": "5c2n1jdOUMcT"
      },
      "source": [
        "vn_rdf_s = matconf_rdf_s[0,0]\r\n",
        "fn_rdf_s = matconf_rdf_s[1,0]\r\n",
        "fp_rdf_s = matconf_rdf_s[0,1]\r\n",
        "vp_rdf_s = matconf_rdf_s[1,1]"
      ],
      "execution_count": 230,
      "outputs": []
    },
    {
      "cell_type": "code",
      "metadata": {
        "id": "N1I1H2TYUX9M"
      },
      "source": [
        "acuracia_rdf_s = (vp_rdf_s + vn_rdf_s) / (vp_rdf_s + vn_rdf_s + fp_rdf_s + fn_rdf_s)*100\r\n",
        "sensibilidade_rdf_s = vp_rdf_s / (vn_rdf_s + fn_rdf_s) * 100\r\n",
        "especificidade_rdf_s = vn_rdf_s / (vn_rdf_s + fp_rdf_s) * 100\r\n",
        "t_erro_rdf_s = fp_rdf_s / (vn_rdf_s + fp_rdf_s) * 100"
      ],
      "execution_count": 231,
      "outputs": []
    },
    {
      "cell_type": "code",
      "metadata": {
        "colab": {
          "base_uri": "https://localhost:8080/"
        },
        "id": "LbzL0OlTUwox",
        "outputId": "dae59417-91e0-4af8-b512-b5352c75d9a8"
      },
      "source": [
        "print(\"Acuracia\", int(acuracia_rdf_s), \"%\")\r\n",
        "print(\"Sensibilidade\", int(sensibilidade_rdf_s), \"%\")\r\n",
        "print(\"Especificidade\", int(especificidade_rdf_s), \"%\")\r\n",
        "print(\"Taxa de Erro\", int(t_erro_rdf_s), \"%\")"
      ],
      "execution_count": 232,
      "outputs": [
        {
          "output_type": "stream",
          "text": [
            "Acuracia 76 %\n",
            "Sensibilidade 71 %\n",
            "Especificidade 78 %\n",
            "Taxa de Erro 21 %\n"
          ],
          "name": "stdout"
        }
      ]
    },
    {
      "cell_type": "markdown",
      "metadata": {
        "id": "WcO-Hmn13MrG"
      },
      "source": [
        "## Decision Tree - Sem validação"
      ]
    },
    {
      "cell_type": "code",
      "metadata": {
        "id": "UtLvK-3v2T-P"
      },
      "source": [
        "dt = DecisionTreeClassifier()"
      ],
      "execution_count": 233,
      "outputs": []
    },
    {
      "cell_type": "code",
      "metadata": {
        "colab": {
          "base_uri": "https://localhost:8080/"
        },
        "id": "SL6GyjXp2eyC",
        "outputId": "df33ee23-8024-4dec-ad89-964fc48a980b"
      },
      "source": [
        "dt.fit(X_train, y_train)"
      ],
      "execution_count": 234,
      "outputs": [
        {
          "output_type": "execute_result",
          "data": {
            "text/plain": [
              "DecisionTreeClassifier(ccp_alpha=0.0, class_weight=None, criterion='gini',\n",
              "                       max_depth=None, max_features=None, max_leaf_nodes=None,\n",
              "                       min_impurity_decrease=0.0, min_impurity_split=None,\n",
              "                       min_samples_leaf=1, min_samples_split=2,\n",
              "                       min_weight_fraction_leaf=0.0, presort='deprecated',\n",
              "                       random_state=None, splitter='best')"
            ]
          },
          "metadata": {
            "tags": []
          },
          "execution_count": 234
        }
      ]
    },
    {
      "cell_type": "code",
      "metadata": {
        "id": "wwUHljL0256F"
      },
      "source": [
        "y_dt = dt.predict(X_test)"
      ],
      "execution_count": 235,
      "outputs": []
    },
    {
      "cell_type": "code",
      "metadata": {
        "colab": {
          "base_uri": "https://localhost:8080/"
        },
        "id": "bmsgMUnq3GUa",
        "outputId": "f6d1b506-42df-4800-b706-ff9d33be748b"
      },
      "source": [
        "y_test"
      ],
      "execution_count": 236,
      "outputs": [
        {
          "output_type": "execute_result",
          "data": {
            "text/plain": [
              "array([1, 1, 1, ..., 1, 1, 2])"
            ]
          },
          "metadata": {
            "tags": []
          },
          "execution_count": 236
        }
      ]
    },
    {
      "cell_type": "code",
      "metadata": {
        "colab": {
          "base_uri": "https://localhost:8080/"
        },
        "id": "aQR8Gf8P3Kc8",
        "outputId": "25f1eb9a-6c1c-46b7-c547-f68fd50006d2"
      },
      "source": [
        "y_dt"
      ],
      "execution_count": 237,
      "outputs": [
        {
          "output_type": "execute_result",
          "data": {
            "text/plain": [
              "array([2, 1, 1, ..., 1, 1, 2])"
            ]
          },
          "metadata": {
            "tags": []
          },
          "execution_count": 237
        }
      ]
    },
    {
      "cell_type": "markdown",
      "metadata": {
        "id": "tC0KUoRO4PhD"
      },
      "source": [
        "### Matriz de confusão y_test e y_dt"
      ]
    },
    {
      "cell_type": "code",
      "metadata": {
        "id": "BAQ2jl5k4Rq3"
      },
      "source": [
        "matconf_dt = confusion_matrix(y_test, y_dt)"
      ],
      "execution_count": 238,
      "outputs": []
    },
    {
      "cell_type": "code",
      "metadata": {
        "colab": {
          "base_uri": "https://localhost:8080/"
        },
        "id": "n4FjfYk_4e55",
        "outputId": "f8e2d50a-a034-41e7-e586-6fbcb9f5dba7"
      },
      "source": [
        "print(matconf_dt)"
      ],
      "execution_count": 239,
      "outputs": [
        {
          "output_type": "stream",
          "text": [
            "[[1425  452]\n",
            " [ 550 1327]]\n"
          ],
          "name": "stdout"
        }
      ]
    },
    {
      "cell_type": "markdown",
      "metadata": {
        "id": "HUwTg7Mm4rJk"
      },
      "source": [
        "### Construção dos valores y_test e y_dt"
      ]
    },
    {
      "cell_type": "code",
      "metadata": {
        "id": "lCWzd6xT4tIG"
      },
      "source": [
        "vn_dt = matconf_dt[0,0]\r\n",
        "fn_dt = matconf_dt[1,0]\r\n",
        "fp_dt = matconf_dt[0,1]\r\n",
        "vp_dt = matconf_dt[1,1]"
      ],
      "execution_count": 240,
      "outputs": []
    },
    {
      "cell_type": "code",
      "metadata": {
        "id": "9YUqDlh-5ZTp"
      },
      "source": [
        "acuracia_dt = (vp_dt + vn_dt) / (vp_dt + vn_dt + fp_dt + fn_dt)*100\r\n",
        "sensibilidade_dt = vp_dt / (vn_dt + fn_dt) * 100\r\n",
        "especificidade_dt = vn_dt / (vn_dt + fp_dt) * 100\r\n",
        "t_erro_dt = fp_dt / (vn_dt + fp_dt) * 100"
      ],
      "execution_count": 241,
      "outputs": []
    },
    {
      "cell_type": "code",
      "metadata": {
        "colab": {
          "base_uri": "https://localhost:8080/"
        },
        "id": "pk4nN9qi6VTZ",
        "outputId": "d06c8514-c3aa-4b5b-b766-b2aa3c0737da"
      },
      "source": [
        "print(\"Acuracia\", int(acuracia_dt), \"%\")\r\n",
        "print(\"Sensibilidade\", int(sensibilidade_dt), \"%\")\r\n",
        "print(\"Especificidade\", int(especificidade_dt), \"%\")\r\n",
        "print(\"Taxa de Erro\", int(t_erro_dt), \"%\")"
      ],
      "execution_count": 242,
      "outputs": [
        {
          "output_type": "stream",
          "text": [
            "Acuracia 73 %\n",
            "Sensibilidade 67 %\n",
            "Especificidade 75 %\n",
            "Taxa de Erro 24 %\n"
          ],
          "name": "stdout"
        }
      ]
    },
    {
      "cell_type": "markdown",
      "metadata": {
        "id": "S4oRp6iqXkX1"
      },
      "source": [
        "## Decision Tree - Com validação"
      ]
    },
    {
      "cell_type": "code",
      "metadata": {
        "id": "RRA_oI2cXm7t"
      },
      "source": [
        "dtv = cross_val_predict(dt, X, y, cv = 10)"
      ],
      "execution_count": 261,
      "outputs": []
    },
    {
      "cell_type": "code",
      "metadata": {
        "id": "XeJt57NFXx8Q"
      },
      "source": [
        "matconf_dts = confusion_matrix(y, dtv)"
      ],
      "execution_count": 262,
      "outputs": []
    },
    {
      "cell_type": "code",
      "metadata": {
        "colab": {
          "base_uri": "https://localhost:8080/"
        },
        "id": "RhFyv2EsYFxY",
        "outputId": "82246da8-1611-4243-8482-b25c412fd4cf"
      },
      "source": [
        "print(matconf_dts)"
      ],
      "execution_count": 263,
      "outputs": [
        {
          "output_type": "stream",
          "text": [
            "[[4919 2589]\n",
            " [2247 5261]]\n"
          ],
          "name": "stdout"
        }
      ]
    },
    {
      "cell_type": "code",
      "metadata": {
        "id": "FSdOCBdIYJWN"
      },
      "source": [
        "vn_dts = matconf_dts[0,0]\r\n",
        "fn_dts = matconf_dts[1,0]\r\n",
        "fp_dts = matconf_dts[0,1]\r\n",
        "vp_dts = matconf_dts[1,1]"
      ],
      "execution_count": 264,
      "outputs": []
    },
    {
      "cell_type": "code",
      "metadata": {
        "id": "WAKjV6kNYSBF"
      },
      "source": [
        "acuracia_dts = (vp_dts + vn_dts) / (vp_dts + vn_dts + fp_dts + fn_dts)*100\r\n",
        "sensibilidade_dts = vp_dts / (vn_dts + fn_dts) * 100\r\n",
        "especificidade_dts = vn_dts / (vn_dts + fp_dts) * 100\r\n",
        "t_erro_dts = fp_dts / (vn_dts + fp_dts) * 100"
      ],
      "execution_count": 265,
      "outputs": []
    },
    {
      "cell_type": "code",
      "metadata": {
        "colab": {
          "base_uri": "https://localhost:8080/"
        },
        "id": "iCA2oCRLYdOa",
        "outputId": "bcc56fd4-506c-43f9-f4fe-ce08acdc9c39"
      },
      "source": [
        "print(\"Acuracia\", int(acuracia_dts), \"%\")\r\n",
        "print(\"Sensibilidade\", int(sensibilidade_dts), \"%\")\r\n",
        "print(\"Especificidade\", int(especificidade_dts), \"%\")\r\n",
        "print(\"Taxa de Erro\", int(t_erro_dts), \"%\")"
      ],
      "execution_count": 266,
      "outputs": [
        {
          "output_type": "stream",
          "text": [
            "Acuracia 67 %\n",
            "Sensibilidade 73 %\n",
            "Especificidade 65 %\n",
            "Taxa de Erro 34 %\n"
          ],
          "name": "stdout"
        }
      ]
    },
    {
      "cell_type": "markdown",
      "metadata": {
        "id": "ezQ-2ND7k0E0"
      },
      "source": [
        "## Rede Neural Sklearn - Sem validação"
      ]
    },
    {
      "cell_type": "code",
      "metadata": {
        "id": "-Wsd6Lyjl_8Z"
      },
      "source": [
        "from sklearn.neural_network import MLPClassifier\r\n",
        "import numpy as np"
      ],
      "execution_count": 243,
      "outputs": []
    },
    {
      "cell_type": "code",
      "metadata": {
        "id": "94vjaei3mFCE"
      },
      "source": [
        "mlp_model = MLPClassifier(hidden_layer_sizes=(30,30,30))"
      ],
      "execution_count": 244,
      "outputs": []
    },
    {
      "cell_type": "code",
      "metadata": {
        "colab": {
          "base_uri": "https://localhost:8080/"
        },
        "id": "Xk6OMqSDmMjC",
        "outputId": "3cc05961-7a5c-4538-82e8-2110d9c950dc"
      },
      "source": [
        "print(mlp_model)"
      ],
      "execution_count": 245,
      "outputs": [
        {
          "output_type": "stream",
          "text": [
            "MLPClassifier(activation='relu', alpha=0.0001, batch_size='auto', beta_1=0.9,\n",
            "              beta_2=0.999, early_stopping=False, epsilon=1e-08,\n",
            "              hidden_layer_sizes=(30, 30, 30), learning_rate='constant',\n",
            "              learning_rate_init=0.001, max_fun=15000, max_iter=200,\n",
            "              momentum=0.9, n_iter_no_change=10, nesterovs_momentum=True,\n",
            "              power_t=0.5, random_state=None, shuffle=True, solver='adam',\n",
            "              tol=0.0001, validation_fraction=0.1, verbose=False,\n",
            "              warm_start=False)\n"
          ],
          "name": "stdout"
        }
      ]
    },
    {
      "cell_type": "code",
      "metadata": {
        "colab": {
          "base_uri": "https://localhost:8080/"
        },
        "id": "SvEJOrygmO88",
        "outputId": "d7a865d3-a5b0-457f-b241-1f8069fe4495"
      },
      "source": [
        "mlp_model.fit(X_train, y_train)"
      ],
      "execution_count": 246,
      "outputs": [
        {
          "output_type": "execute_result",
          "data": {
            "text/plain": [
              "MLPClassifier(activation='relu', alpha=0.0001, batch_size='auto', beta_1=0.9,\n",
              "              beta_2=0.999, early_stopping=False, epsilon=1e-08,\n",
              "              hidden_layer_sizes=(30, 30, 30), learning_rate='constant',\n",
              "              learning_rate_init=0.001, max_fun=15000, max_iter=200,\n",
              "              momentum=0.9, n_iter_no_change=10, nesterovs_momentum=True,\n",
              "              power_t=0.5, random_state=None, shuffle=True, solver='adam',\n",
              "              tol=0.0001, validation_fraction=0.1, verbose=False,\n",
              "              warm_start=False)"
            ]
          },
          "metadata": {
            "tags": []
          },
          "execution_count": 246
        }
      ]
    },
    {
      "cell_type": "code",
      "metadata": {
        "id": "zQHcC-3SmRkw"
      },
      "source": [
        "pred_mlp = mlp_model.predict(X_test)"
      ],
      "execution_count": 247,
      "outputs": []
    },
    {
      "cell_type": "markdown",
      "metadata": {
        "id": "daiFLu5rrVaS"
      },
      "source": [
        "### Matriz de Confusão - Rede Neural"
      ]
    },
    {
      "cell_type": "code",
      "metadata": {
        "id": "rl8YsWWyrYLM"
      },
      "source": [
        "matconf_rn = confusion_matrix(y_test, pred_mlp)"
      ],
      "execution_count": 248,
      "outputs": []
    },
    {
      "cell_type": "code",
      "metadata": {
        "colab": {
          "base_uri": "https://localhost:8080/"
        },
        "id": "e3qPEQeDrcs8",
        "outputId": "54d808f3-2665-4f77-ea64-272762311711"
      },
      "source": [
        "print(matconf_rn)"
      ],
      "execution_count": 249,
      "outputs": [
        {
          "output_type": "stream",
          "text": [
            "[[1605  272]\n",
            " [ 531 1346]]\n"
          ],
          "name": "stdout"
        }
      ]
    },
    {
      "cell_type": "markdown",
      "metadata": {
        "id": "gYY-DDnhsG8P"
      },
      "source": [
        "### Construção dos Valores"
      ]
    },
    {
      "cell_type": "code",
      "metadata": {
        "id": "t4UPfLTfsKfe"
      },
      "source": [
        "vn_rn = matconf_rn[0,0]\r\n",
        "fn_rn = matconf_rn[1,0]\r\n",
        "fp_rn = matconf_rn[0,1]\r\n",
        "vp_rn = matconf_rn[1,1]"
      ],
      "execution_count": 250,
      "outputs": []
    },
    {
      "cell_type": "code",
      "metadata": {
        "id": "dJK-bpePsUwT"
      },
      "source": [
        "acuracia_rn = (vp_rn + vn_rn) / (vp_rn + vn_rn + fp_rn + fn_rn)*100\r\n",
        "sensibilidade_rn = vp_rn / (vn_rn + fn_rn) * 100\r\n",
        "especificidade_rn = vn_rn / (vn_rn + fp_rn) * 100\r\n",
        "t_erro_rn = fp_rn / (vn_rn + fp_rn) * 100"
      ],
      "execution_count": 251,
      "outputs": []
    },
    {
      "cell_type": "code",
      "metadata": {
        "colab": {
          "base_uri": "https://localhost:8080/"
        },
        "id": "M_Y--nhhsZir",
        "outputId": "db1e737b-a606-478f-97be-ca1243bc5120"
      },
      "source": [
        "print(\"Acuracia\", int(acuracia_rn), \"%\")\r\n",
        "print(\"Sensibilidade\", int(sensibilidade_rn), \"%\")\r\n",
        "print(\"Especificidade\", int(especificidade_rn), \"%\")\r\n",
        "print(\"Taxa de Erro\", int(t_erro_rn), \"%\")"
      ],
      "execution_count": 252,
      "outputs": [
        {
          "output_type": "stream",
          "text": [
            "Acuracia 78 %\n",
            "Sensibilidade 63 %\n",
            "Especificidade 85 %\n",
            "Taxa de Erro 14 %\n"
          ],
          "name": "stdout"
        }
      ]
    },
    {
      "cell_type": "markdown",
      "metadata": {
        "id": "YbXFFyKIZI7D"
      },
      "source": [
        "## Rede Neural Sklearn - Com validação"
      ]
    },
    {
      "cell_type": "code",
      "metadata": {
        "id": "tTQgA5EjZZ1Y"
      },
      "source": [
        "rn = cross_val_predict(mlp_model, X, y, cv = 10)"
      ],
      "execution_count": 270,
      "outputs": []
    },
    {
      "cell_type": "code",
      "metadata": {
        "id": "4q4Tnj5KZj_q"
      },
      "source": [
        "matconf_rns = confusion_matrix(y, rn)"
      ],
      "execution_count": 271,
      "outputs": []
    },
    {
      "cell_type": "code",
      "metadata": {
        "id": "nHnkFL_yZthg"
      },
      "source": [
        "vn_rns = matconf_rns[0,0]\r\n",
        "fn_rns = matconf_rns[1,0]\r\n",
        "fp_rns = matconf_rns[0,1]\r\n",
        "vp_rns = matconf_rns[1,1]"
      ],
      "execution_count": 272,
      "outputs": []
    },
    {
      "cell_type": "code",
      "metadata": {
        "id": "AUgx_2BaZ5pO"
      },
      "source": [
        "acuracia_rns = (vp_rns + vn_rns) / (vp_rns + vn_rns + fp_rns + fn_rns)*100\r\n",
        "sensibilidade_rns = vp_rns / (vn_rns + fn_rns) * 100\r\n",
        "especificidade_rns = vn_rns / (vn_rns + fp_rns) * 100\r\n",
        "t_erro_rns = fp_rns / (vn_rns + fp_rns) * 100"
      ],
      "execution_count": 273,
      "outputs": []
    },
    {
      "cell_type": "code",
      "metadata": {
        "colab": {
          "base_uri": "https://localhost:8080/"
        },
        "id": "JoXBUVsgZ72f",
        "outputId": "5f0c594f-4a60-42bc-8877-21946d3e8a52"
      },
      "source": [
        "print(\"Acuracia\", int(acuracia_rns), \"%\")\r\n",
        "print(\"Sensibilidade\", int(sensibilidade_rns), \"%\")\r\n",
        "print(\"Especificidade\", int(especificidade_rns), \"%\")\r\n",
        "print(\"Taxa de Erro\", int(t_erro_rns), \"%\")"
      ],
      "execution_count": 276,
      "outputs": [
        {
          "output_type": "stream",
          "text": [
            "Acuracia 76 %\n",
            "Sensibilidade 69 %\n",
            "Especificidade 79 %\n",
            "Taxa de Erro 20 %\n"
          ],
          "name": "stdout"
        }
      ]
    },
    {
      "cell_type": "markdown",
      "metadata": {
        "id": "3fIdynMVs-Cp"
      },
      "source": [
        "## Relatório das analises sem validação"
      ]
    },
    {
      "cell_type": "code",
      "metadata": {
        "colab": {
          "base_uri": "https://localhost:8080/"
        },
        "id": "rmXnqGaEtTOL",
        "outputId": "28712698-ca4b-4ec5-e554-2a9f69c336e7"
      },
      "source": [
        "print(\"\\n\\n Sem Validação\")\r\n",
        "print(\" \")\r\n",
        "print(\"RandomForest\")\r\n",
        "print(\"Acuracia      \", int(acuracia_rdf_s), \"%\")\r\n",
        "print(\"Sensibilidade \", int(sensibilidade_rdf_s), \"%\")\r\n",
        "print(\"Especificidade\", int(especificidade_rdf_s), \"%\")\r\n",
        "print(\"Taxa de Erro  \", int(t_erro_rdf_s), \"%\")\r\n",
        "print(\" \")\r\n",
        "print(\"DECISION TREE\")\r\n",
        "print(\"Acuracia      \", int(acuracia_dt), \"%\")\r\n",
        "print(\"Sensibilidade \", int(sensibilidade_dt), \"%\")\r\n",
        "print(\"Especificidade\", int(especificidade_dt), \"%\")\r\n",
        "print(\"Taxa de Erro  \", int(t_erro_dt), \"%\")\r\n",
        "print(\" \")\r\n",
        "print(\"REDE NEURAL\")\r\n",
        "print(\"Acuracia      \", int(acuracia_rn), \"%\")\r\n",
        "print(\"Sensibilidade \", int(sensibilidade_rn), \"%\")\r\n",
        "print(\"Especificidade\", int(especificidade_rn), \"%\")\r\n",
        "print(\"Taxa de Erro  \", int(t_erro_rn), \"%\")"
      ],
      "execution_count": 280,
      "outputs": [
        {
          "output_type": "stream",
          "text": [
            "\n",
            "\n",
            " Sem Validação\n",
            " \n",
            "RandomForest\n",
            "Acuracia       76 %\n",
            "Sensibilidade  71 %\n",
            "Especificidade 78 %\n",
            "Taxa de Erro   21 %\n",
            " \n",
            "DECISION TREE\n",
            "Acuracia       73 %\n",
            "Sensibilidade  67 %\n",
            "Especificidade 75 %\n",
            "Taxa de Erro   24 %\n",
            " \n",
            "REDE NEURAL\n",
            "Acuracia       78 %\n",
            "Sensibilidade  63 %\n",
            "Especificidade 85 %\n",
            "Taxa de Erro   14 %\n"
          ],
          "name": "stdout"
        }
      ]
    },
    {
      "cell_type": "markdown",
      "metadata": {
        "id": "wJY25EPQ38j9"
      },
      "source": [
        "## Relatório das analises com validação"
      ]
    },
    {
      "cell_type": "code",
      "metadata": {
        "colab": {
          "base_uri": "https://localhost:8080/"
        },
        "id": "BwFjMju6VsuH",
        "outputId": "02ac5b2e-b01a-4630-872f-28138a04c6be"
      },
      "source": [
        "print(\"\\n\\n Com Validação cruzada\")\r\n",
        "print(\" \")\r\n",
        "print(\"RandomForest\")\r\n",
        "print(\"Acuracia      \", int(acuracia), \"%\")\r\n",
        "print(\"Sensibilidade \", int(sensibilidade), \"%\")\r\n",
        "print(\"Especificidade\", int(especificidade), \"%\")\r\n",
        "print(\"Taxa de Erro  \", int(t_erro), \"%\")\r\n",
        "print(\" \")\r\n",
        "print(\"DECISION TREE\")\r\n",
        "print(\"Acuracia      \", int(acuracia_dts), \"%\")\r\n",
        "print(\"Sensibilidade \", int(sensibilidade_dts), \"%\")\r\n",
        "print(\"Especificidade\", int(especificidade_dts), \"%\")\r\n",
        "print(\"Taxa de Erro  \", int(t_erro_dts), \"%\")\r\n",
        "print(\" \")\r\n",
        "print(\"REDE NEURAL\")\r\n",
        "print(\"Acuracia      \", int(acuracia_rns), \"%\")\r\n",
        "print(\"Sensibilidade \", int(sensibilidade_rns), \"%\")\r\n",
        "print(\"Especificidade\", int(especificidade_rns), \"%\")\r\n",
        "print(\"Taxa de Erro  \", int(t_erro_rns), \"%\")"
      ],
      "execution_count": 279,
      "outputs": [
        {
          "output_type": "stream",
          "text": [
            "\n",
            "\n",
            " Com Validação cruzada\n",
            " \n",
            "RandomForest\n",
            "Acuracia       71 %\n",
            "Sensibilidade  78 %\n",
            "Especificidade 68 %\n",
            "Taxa de Erro   31 %\n",
            " \n",
            "DECISION TREE\n",
            "Acuracia       67 %\n",
            "Sensibilidade  73 %\n",
            "Especificidade 65 %\n",
            "Taxa de Erro   34 %\n",
            " \n",
            "REDE NEURAL\n",
            "Acuracia       76 %\n",
            "Sensibilidade  69 %\n",
            "Especificidade 79 %\n",
            "Taxa de Erro   20 %\n"
          ],
          "name": "stdout"
        }
      ]
    },
    {
      "cell_type": "markdown",
      "metadata": {
        "id": "w48r09yYcu5f"
      },
      "source": [
        "## Resultados por Imagem"
      ]
    },
    {
      "cell_type": "markdown",
      "metadata": {
        "id": "f1QLwgBAchMJ"
      },
      "source": [
        "![rede neural.png](data:image/png;base64,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)"
      ]
    }
  ]
}